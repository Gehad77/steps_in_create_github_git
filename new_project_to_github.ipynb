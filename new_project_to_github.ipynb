{
 "cells": [
  {
   "cell_type": "markdown",
   "metadata": {},
   "source": [
    "# Create and Push a New Project Folder to GitHub\n",
    "This notebook contains the commands to create a new folder on your laptop, initialize Git, and push it to a new GitHub repository."
   ]
  },
  {
   "cell_type": "markdown",
   "metadata": {},
   "source": [
    "## Step 1: Create a new folder locally\n",
    "```bash\n",
    "mkdir my-new-project\n",
    "cd my-new-project\n",
    "```\n",
    "This will create a folder called `my-new-project` and move inside it."
   ]
  },
  {
   "cell_type": "markdown",
   "metadata": {},
   "source": [
    "## Step 2: Initialize Git\n",
    "```bash\n",
    "git init\n",
    "```\n",
    "This makes the folder a Git repository."
   ]
  },
  {
   "cell_type": "markdown",
   "metadata": {},
   "source": [
    "## Step 3: Create a file in the folder\n",
    "```bash\n",
    "echo \"This is my new project\" > readme.txt\n",
    "```\n",
    "This creates a text file inside the folder."
   ]
  },
  {
   "cell_type": "markdown",
   "metadata": {},
   "source": [
    "## Step 4: Stage and Commit your changes\n",
    "```bash\n",
    "git add .\n",
    "git commit -m \"Initial commit - added readme.txt\"\n",
    "```\n",
    "This saves your work locally with a commit message."
   ]
  },
  {
   "cell_type": "markdown",
   "metadata": {},
   "source": [
    "## Step 5: Create a new repository on GitHub\n",
    "- Go to GitHub → Click **New Repository**.\n",
    "- Name it `my-new-project` (same as the folder name).\n",
    "- Do **not** initialize with README.\n",
    "- Copy the repository link (for example: `https://github.com/username/my-new-project.git`)."
   ]
  },
  {
   "cell_type": "markdown",
   "metadata": {},
   "source": [
    "## Step 6: Connect local folder to GitHub repo\n",
    "```bash\n",
    "git remote add origin https://github.com/username/my-new-project.git\n",
    "git branch -M main\n",
    "git push -u origin main\n",
    "```\n",
    "This connects your local project with GitHub and pushes your changes."
   ]
  },
  {
   "cell_type": "markdown",
   "metadata": {},
   "source": [
    "## ✅ Result\n",
    "- Your new local folder is now a project on GitHub.\n",
    "- Each new folder you create can follow the same process:\n",
    "  - `mkdir new-folder`\n",
    "  - Initialize with `git init`\n",
    "  - Add files → Commit → Push to new GitHub repo.\n",
    "- Every folder = its own GitHub repository."
   ]
  },
  {
   "cell_type": "markdown",
   "id": "cbe14097",
   "metadata": {},
   "source": [
    "to add any file again \n",
    "\n",
    "git add .\n",
    "git commit -m \"Updated notebook file with new changes\"\n",
    "git push origin main\n"
   ]
  }
 ],
 "metadata": {
  "kernelspec": {
   "display_name": "Python 3",
   "language": "python",
   "name": "python3"
  },
  "language_info": {
   "name": "python",
   "version": "3.11"
  }
 },
 "nbformat": 4,
 "nbformat_minor": 5
}
